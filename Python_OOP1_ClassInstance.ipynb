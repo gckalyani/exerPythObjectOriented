{
  "cells": [
    {
      "cell_type": "markdown",
      "metadata": {
        "id": "view-in-github",
        "colab_type": "text"
      },
      "source": [
        "<a href=\"https://colab.research.google.com/github/gckalyani/exerPythObjectOriented/blob/master/Python_OOP1_ClassInstance.ipynb\" target=\"_parent\"><img src=\"https://colab.research.google.com/assets/colab-badge.svg\" alt=\"Open In Colab\"/></a>"
      ]
    },
    {
      "cell_type": "markdown",
      "id": "5580b135",
      "metadata": {
        "deletable": false,
        "editable": false,
        "nbgrader": {
          "cell_type": "markdown",
          "checksum": "7323ef52163e8b562e0d9a8c1b3d6aac",
          "grade": false,
          "grade_id": "cell-1fa00a9803e04b8b",
          "locked": true,
          "schema_version": 3,
          "solution": false,
          "task": false
        },
        "id": "5580b135"
      },
      "source": [
        "# Python OOP - Classes & Instances"
      ]
    },
    {
      "cell_type": "markdown",
      "id": "4a3a5390",
      "metadata": {
        "deletable": false,
        "editable": false,
        "nbgrader": {
          "cell_type": "markdown",
          "checksum": "e8f0ab867ab4bd647dd39c5c6b7fadf7",
          "grade": false,
          "grade_id": "cell-6f94ae788ce82371",
          "locked": true,
          "schema_version": 3,
          "solution": false,
          "task": false
        },
        "id": "4a3a5390"
      },
      "source": [
        "### Instructions\n",
        "\n",
        "* Watch the video tutorial about the os module at https://www.youtube.com/watch?v=ZDa-Z5JzLYM\n",
        "* Complete the programming exercises below as you go through the tutorial.\n",
        "* Delete or comment out the line of code in each cell which says `raise NotImplementedError()` and replace it with your own.\n",
        "* Note: Some cells may have some code provided as a starting point, however, you may need to verify the variable names in the code provided match the way the presenter has spelled his variable names. If you get an error, make sure the variable names match the variable names in the video.\n",
        "\n",
        "### Exercises"
      ]
    },
    {
      "cell_type": "markdown",
      "id": "fa06a6c2",
      "metadata": {
        "deletable": false,
        "editable": false,
        "nbgrader": {
          "cell_type": "markdown",
          "checksum": "d1fec1c20c2baf091dcc2554aa0fbf2b",
          "grade": false,
          "grade_id": "cell-9f01afc8955ef721",
          "locked": true,
          "schema_version": 3,
          "solution": false,
          "task": false
        },
        "id": "fa06a6c2"
      },
      "source": [
        "Write code in the cell below.\n",
        "\n",
        "* Create a class called `Employee`.\n",
        "* Add a `pass` statement in the class."
      ]
    },
    {
      "cell_type": "code",
      "execution_count": null,
      "id": "7c931a63",
      "metadata": {
        "deletable": false,
        "nbgrader": {
          "cell_type": "code",
          "checksum": "4c95a1a2572bf9a522d45696606cde83",
          "grade": true,
          "grade_id": "cell-3cb9b160a89bc507",
          "locked": false,
          "points": 1,
          "schema_version": 3,
          "solution": true,
          "task": false
        },
        "id": "7c931a63"
      },
      "outputs": [],
      "source": [
        "\n",
        "# YOUR CODE HE\n",
        "class Employee:\n",
        "    pass"
      ]
    },
    {
      "cell_type": "markdown",
      "id": "5c2dd8ad",
      "metadata": {
        "deletable": false,
        "editable": false,
        "nbgrader": {
          "cell_type": "markdown",
          "checksum": "412fa02c604f0811b191bb1ef7d2cb39",
          "grade": false,
          "grade_id": "cell-3fa1920b87e1a57a",
          "locked": true,
          "schema_version": 3,
          "solution": false,
          "task": false
        },
        "id": "5c2dd8ad"
      },
      "source": [
        "Write code in the cell below.\n",
        "\n",
        "* Create an instance of class `Employee` called `emp_1`.\n",
        "* Create an instance of class `Employee` called `emp_2`.\n",
        "* Print the instance variables for both instances.\n",
        "* Add the following attributes to `emp_1` using separate lines of code.\n",
        "  * .first = 'Corey'\n",
        "  * .last = 'Schafer'\n",
        "  * .email = 'Corey.Schafer@company.com'\n",
        "  * .pay = 50000\n",
        "* Add the following attributes to `emp_2` using separate lines of code.\n",
        "  * .first = 'Test'\n",
        "  * .last = 'User'\n",
        "  * .email = 'Test.User@company.com'\n",
        "  * .pay = 60000\n",
        "* Print the email for `emp_1` and `emp_2`."
      ]
    },
    {
      "cell_type": "code",
      "execution_count": null,
      "id": "51f11a87",
      "metadata": {
        "deletable": false,
        "nbgrader": {
          "cell_type": "code",
          "checksum": "8c0e19d6d41e1f2f6b52c6edfbdb4fd7",
          "grade": true,
          "grade_id": "cell-2647590c66a8a312",
          "locked": false,
          "points": 3,
          "schema_version": 3,
          "solution": true,
          "task": false
        },
        "colab": {
          "base_uri": "https://localhost:8080/"
        },
        "id": "51f11a87",
        "outputId": "5a347051-69a7-4efc-c134-07f73c6f09f2"
      },
      "outputs": [
        {
          "output_type": "stream",
          "name": "stdout",
          "text": [
            "<__main__.Employee object at 0x7e4ddf164af0>\n",
            "<__main__.Employee object at 0x7e4ddf167550>\n"
          ]
        }
      ],
      "source": [
        "\n",
        "# YOUR CODE HERE\n",
        "emp_1 = Employee()\n",
        "emp_2 = Employee()\n",
        "\n",
        "print(emp_1)\n",
        "print(emp_2)\n"
      ]
    },
    {
      "cell_type": "markdown",
      "id": "a3fe2fb6",
      "metadata": {
        "deletable": false,
        "editable": false,
        "nbgrader": {
          "cell_type": "markdown",
          "checksum": "8953774b9490a6623232974273454efa",
          "grade": false,
          "grade_id": "cell-479bb39fefd610e5",
          "locked": true,
          "schema_version": 3,
          "solution": false,
          "task": false
        },
        "id": "a3fe2fb6"
      },
      "source": [
        "Write code in the cell below.\n",
        "\n",
        "* Create a class called `Employee`.\n",
        "* Add an init method.\n",
        "* Accept `first`, `last`, and `pay` in the init method.\n",
        "* Set all the instance variables in your init method.\n",
        "* Set the email using `first`, `last`, and `@company.com`."
      ]
    },
    {
      "cell_type": "code",
      "execution_count": null,
      "id": "2968735c",
      "metadata": {
        "deletable": false,
        "nbgrader": {
          "cell_type": "code",
          "checksum": "9b57e54c006649bdef74a02d1c2d9065",
          "grade": true,
          "grade_id": "cell-45ab345e38937b05",
          "locked": false,
          "points": 2,
          "schema_version": 3,
          "solution": true,
          "task": false
        },
        "colab": {
          "base_uri": "https://localhost:8080/"
        },
        "id": "2968735c",
        "outputId": "c3e2d9f3-6248-451f-d898-e6b798cdab31"
      },
      "outputs": [
        {
          "output_type": "stream",
          "name": "stdout",
          "text": [
            "Corey.Schafer@company.com\n",
            "Test.User@company.com\n"
          ]
        }
      ],
      "source": [
        "\n",
        "# YOUR CODE HERE\n",
        "emp_1.first = 'Corey'\n",
        "emp_1.last = 'Schafer'\n",
        "emp_1.email = 'Corey.Schafer@company.com'\n",
        "emp_1.pay = 50000\n",
        "\n",
        "emp_2.first = 'Test'\n",
        "emp_2.last = 'User'\n",
        "emp_2.email = 'Test.User@company.com'\n",
        "emp_2.pay = 60000\n",
        "\n",
        "print(emp_1.email)\n",
        "print(emp_2.email)"
      ]
    },
    {
      "cell_type": "markdown",
      "id": "1ad34773",
      "metadata": {
        "deletable": false,
        "editable": false,
        "nbgrader": {
          "cell_type": "markdown",
          "checksum": "c68d421f93b35400b4b1e166fd45a2ab",
          "grade": false,
          "grade_id": "cell-064992568b084972",
          "locked": true,
          "schema_version": 3,
          "solution": false,
          "task": false
        },
        "id": "1ad34773"
      },
      "source": [
        "Write code in the cell below.\n",
        "\n",
        "* Create an instance of class `Employee` called `emp_1` and pass the input `('Corey', 'Schafer', 50000)`.\n",
        "* Create an instance of class `Employee` called `emp_2` and pass the input `('Test', 'User', 60000)`.\n",
        "* Print the email for both employees.\n",
        "* Print the full name for `emp_1`."
      ]
    },
    {
      "cell_type": "code",
      "execution_count": null,
      "id": "c9976e13",
      "metadata": {
        "deletable": false,
        "nbgrader": {
          "cell_type": "code",
          "checksum": "5607e4a88592de9eb0b979a481671d26",
          "grade": true,
          "grade_id": "cell-2bc19719477ebc4c",
          "locked": false,
          "points": 2,
          "schema_version": 3,
          "solution": true,
          "task": false
        },
        "colab": {
          "base_uri": "https://localhost:8080/",
          "height": 211
        },
        "id": "c9976e13",
        "outputId": "70fd1648-8aed-4680-f18e-e5e3c9eab902"
      },
      "outputs": [
        {
          "output_type": "error",
          "ename": "TypeError",
          "evalue": "Employee() takes no arguments",
          "traceback": [
            "\u001b[0;31m---------------------------------------------------------------------------\u001b[0m",
            "\u001b[0;31mTypeError\u001b[0m                                 Traceback (most recent call last)",
            "\u001b[0;32m<ipython-input-89-66d779da8fb0>\u001b[0m in \u001b[0;36m<cell line: 8>\u001b[0;34m()\u001b[0m\n\u001b[1;32m      6\u001b[0m     \u001b[0mself\u001b[0m\u001b[0;34m.\u001b[0m\u001b[0memail\u001b[0m \u001b[0;34m=\u001b[0m \u001b[0mfirst\u001b[0m \u001b[0;34m+\u001b[0m \u001b[0;34m'.'\u001b[0m \u001b[0;34m+\u001b[0m \u001b[0mlast\u001b[0m \u001b[0;34m+\u001b[0m \u001b[0;34m'@company.com'\u001b[0m\u001b[0;34m\u001b[0m\u001b[0;34m\u001b[0m\u001b[0m\n\u001b[1;32m      7\u001b[0m \u001b[0;34m\u001b[0m\u001b[0m\n\u001b[0;32m----> 8\u001b[0;31m \u001b[0memp_1\u001b[0m \u001b[0;34m=\u001b[0m \u001b[0mEmployee\u001b[0m\u001b[0;34m(\u001b[0m\u001b[0;34m'Corey'\u001b[0m\u001b[0;34m,\u001b[0m \u001b[0;34m'Schafer'\u001b[0m\u001b[0;34m,\u001b[0m \u001b[0;36m50000\u001b[0m\u001b[0;34m)\u001b[0m\u001b[0;34m\u001b[0m\u001b[0;34m\u001b[0m\u001b[0m\n\u001b[0m\u001b[1;32m      9\u001b[0m \u001b[0memp_2\u001b[0m \u001b[0;34m=\u001b[0m \u001b[0mEmployee\u001b[0m\u001b[0;34m(\u001b[0m\u001b[0;34m'Test'\u001b[0m\u001b[0;34m,\u001b[0m \u001b[0;34m'User'\u001b[0m\u001b[0;34m,\u001b[0m \u001b[0;36m60000\u001b[0m\u001b[0;34m)\u001b[0m\u001b[0;34m\u001b[0m\u001b[0;34m\u001b[0m\u001b[0m\n\u001b[1;32m     10\u001b[0m \u001b[0;34m\u001b[0m\u001b[0m\n",
            "\u001b[0;31mTypeError\u001b[0m: Employee() takes no arguments"
          ]
        }
      ],
      "source": [
        "\n",
        "# YOUR CODE HERE\n",
        "def __init__(self, first, last, pay):\n",
        "    self.first = first\n",
        "    self.last = last\n",
        "    self.pay = pay\n",
        "    self.email = first + '.' + last + '@company.com'\n",
        "\n",
        "emp_1 = Employee('Corey', 'Schafer', 50000)\n",
        "emp_2 = Employee('Test', 'User', 60000)\n",
        "\n",
        "print(emp_1.email)\n",
        "print(emp_2.email)\n"
      ]
    },
    {
      "cell_type": "markdown",
      "id": "41afccbc",
      "metadata": {
        "deletable": false,
        "editable": false,
        "nbgrader": {
          "cell_type": "markdown",
          "checksum": "5b50a0b4ad21ba1728a1729b8f48017e",
          "grade": false,
          "grade_id": "cell-cbc2a2255f826b57",
          "locked": true,
          "schema_version": 3,
          "solution": false,
          "task": false
        },
        "id": "41afccbc"
      },
      "source": [
        "Write code in the cell below.\n",
        "\n",
        "* Copy your Employee class with all the self statements into the cell below. You're going to add a method to it.\n",
        "* Add a method called `fullname`."
      ]
    },
    {
      "cell_type": "code",
      "execution_count": null,
      "id": "e0bcd0ba",
      "metadata": {
        "deletable": false,
        "nbgrader": {
          "cell_type": "code",
          "checksum": "e37bfa50886636183f2b7c9d706e19c4",
          "grade": true,
          "grade_id": "cell-173387293667a181",
          "locked": false,
          "points": 2,
          "schema_version": 3,
          "solution": true,
          "task": false
        },
        "colab": {
          "base_uri": "https://localhost:8080/"
        },
        "id": "e0bcd0ba",
        "outputId": "458c84e2-e77c-42bd-e859-a95c7c8d14e8"
      },
      "outputs": [
        {
          "output_type": "stream",
          "name": "stdout",
          "text": [
            "Corey Schafer\n",
            "Test User\n"
          ]
        }
      ],
      "source": [
        "\n",
        "# YOUR CODE HERE:\n",
        "print('{} {}'.format(emp_1.first, emp_1.last))\n",
        "print('{} {}'.format(emp_2.first, emp_2.last))"
      ]
    },
    {
      "cell_type": "markdown",
      "id": "aead4033",
      "metadata": {
        "deletable": false,
        "editable": false,
        "nbgrader": {
          "cell_type": "markdown",
          "checksum": "d80481c0c29b9aaf795633f10372a72e",
          "grade": false,
          "grade_id": "cell-f1ff113bdb790426",
          "locked": true,
          "schema_version": 3,
          "solution": false,
          "task": false
        },
        "id": "aead4033"
      },
      "source": [
        "Write code in the cell below.\n",
        "\n",
        "* Create an instance of class `Employee` called `emp_1` and pass the input `('Corey', 'Schafer', 50000)`.\n",
        "* Create an instance of class `Employee` called `emp_2` and pass the input `('Test', 'User', 60000)`.\n",
        "* Print the full name for both employees using your new method (with the parentheses).\n",
        "* Print the full name for both employees using the class and passing the instance."
      ]
    },
    {
      "cell_type": "code",
      "execution_count": 100,
      "id": "b363d0ac",
      "metadata": {
        "deletable": false,
        "nbgrader": {
          "cell_type": "code",
          "checksum": "85f888973c2593c8a8463a37db55a1f5",
          "grade": true,
          "grade_id": "cell-0ab4a8f7776165df",
          "locked": false,
          "points": 2,
          "schema_version": 3,
          "solution": true,
          "task": false
        },
        "colab": {
          "base_uri": "https://localhost:8080/",
          "height": 211
        },
        "id": "b363d0ac",
        "outputId": "b4e15e0b-d49b-4b17-9dcd-ac089cd91bc0"
      },
      "outputs": [
        {
          "output_type": "error",
          "ename": "TypeError",
          "evalue": "Employee() takes no arguments",
          "traceback": [
            "\u001b[0;31m---------------------------------------------------------------------------\u001b[0m",
            "\u001b[0;31mTypeError\u001b[0m                                 Traceback (most recent call last)",
            "\u001b[0;32m<ipython-input-100-ea3599acd0dc>\u001b[0m in \u001b[0;36m<cell line: 3>\u001b[0;34m()\u001b[0m\n\u001b[1;32m      1\u001b[0m \u001b[0;31m# You may need to create the instances again after adding a method to your class.\u001b[0m\u001b[0;34m\u001b[0m\u001b[0;34m\u001b[0m\u001b[0m\n\u001b[1;32m      2\u001b[0m \u001b[0;31m# I pasted the code here.\u001b[0m\u001b[0;34m\u001b[0m\u001b[0;34m\u001b[0m\u001b[0m\n\u001b[0;32m----> 3\u001b[0;31m \u001b[0memp_1\u001b[0m \u001b[0;34m=\u001b[0m \u001b[0mEmployee\u001b[0m\u001b[0;34m(\u001b[0m\u001b[0;34m'Corey'\u001b[0m\u001b[0;34m,\u001b[0m \u001b[0;34m'Schafer'\u001b[0m\u001b[0;34m,\u001b[0m \u001b[0;36m50000\u001b[0m\u001b[0;34m)\u001b[0m\u001b[0;34m\u001b[0m\u001b[0;34m\u001b[0m\u001b[0m\n\u001b[0m\u001b[1;32m      4\u001b[0m \u001b[0memp_2\u001b[0m \u001b[0;34m=\u001b[0m \u001b[0mEmployee\u001b[0m\u001b[0;34m(\u001b[0m\u001b[0;34m'Test'\u001b[0m\u001b[0;34m,\u001b[0m \u001b[0;34m'User'\u001b[0m\u001b[0;34m,\u001b[0m \u001b[0;36m60000\u001b[0m\u001b[0;34m)\u001b[0m\u001b[0;34m\u001b[0m\u001b[0;34m\u001b[0m\u001b[0m\n\u001b[1;32m      5\u001b[0m \u001b[0;31m# YOUR CODE HERE\u001b[0m\u001b[0;34m\u001b[0m\u001b[0;34m\u001b[0m\u001b[0m\n",
            "\u001b[0;31mTypeError\u001b[0m: Employee() takes no arguments"
          ]
        }
      ],
      "source": [
        "# You may need to create the instances again after adding a method to your class.\n",
        "# I pasted the code here.\n",
        "emp_1 = Employee('Corey', 'Schafer', 50000)\n",
        "emp_2 = Employee('Test', 'User', 60000)\n",
        "# YOUR CODE HERE\n",
        "\n",
        "def __init__(self, first, last, pay):\n",
        "    self.first = first\n",
        "    self.last = last\n",
        "    self.pay = pay\n",
        "    self.email = first + '.' + last + '@company.com'\n",
        "\n",
        "\n",
        "\n",
        "\n",
        "emp_1 = Employee('Corey', 'Schafer', 50000)\n",
        "emp_2 = Employee('Test', 'User', 60000)\n",
        "\n",
        "print(emp_1.email)\n",
        "print(emp_2.email)\n",
        "\n",
        "print('{} {}'.format(emp_1.first, emp_1.last))\n",
        "print('{} {}'.format(emp_2.first, emp_2.last))\n",
        "\n",
        "print(emp_1.fullname())\n",
        "print(emp_2.fullname())\n"
      ]
    },
    {
      "cell_type": "markdown",
      "source": [],
      "metadata": {
        "id": "t9SvSZJqI3wY"
      },
      "id": "t9SvSZJqI3wY"
    }
  ],
  "metadata": {
    "kernelspec": {
      "display_name": "Python 3",
      "language": "python",
      "name": "python3"
    },
    "language_info": {
      "codemirror_mode": {
        "name": "ipython",
        "version": 3
      },
      "file_extension": ".py",
      "mimetype": "text/x-python",
      "name": "python",
      "nbconvert_exporter": "python",
      "pygments_lexer": "ipython3",
      "version": "3.8.8"
    },
    "colab": {
      "provenance": [],
      "include_colab_link": true
    }
  },
  "nbformat": 4,
  "nbformat_minor": 5
}